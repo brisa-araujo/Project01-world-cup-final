{
 "cells": [
  {
   "cell_type": "markdown",
   "metadata": {},
   "source": [
    "### Documento master\n",
    "\n",
    "- Este documento será la referencia para que cada quien escriba su parte del código: estarán las partes que acordamos en el flowchart, ubicadas en distintas celdas\n",
    "- Ya estarán definidos los nombres de las variables y funciones principales, para que cuando juntemos no tengamos problemas\n",
    "- Si se necesitan crear variables o funciones adicionales, sin problemas, siempre y cuando sean referenciadas solamente en el código de uno mismo (es decir, si necesitas que tu nueva variable esté en una parte de mi código, o vice versa, tenemos que avisarnos y quedar en un mismo nombre, para no generar conflictos)\n",
    "- El branch master queda intocado y cada quien trabajará en un branch con su nombre. Usamos el master solamente para juntar.\n",
    "- No definí funciones ni empecé el código, solamente creé el esqueleto para que vayamos directo al grano :)"
   ]
  },
  {
   "cell_type": "code",
   "execution_count": 1,
   "metadata": {},
   "outputs": [],
   "source": [
    "#espacio para importar librerías necesarias\n",
    "import random\n"
   ]
  },
  {
   "cell_type": "code",
   "execution_count": 2,
   "metadata": {},
   "outputs": [],
   "source": [
    "# definición de variables principales, externas a las funciones\n",
    "\n",
    "rondas = 0 #rondas transcurridas\n",
    "goals_player = 0 #número de goles del player \"humano\"\n",
    "goals_computer = 0 #número de goles de la máquina\n",
    "chicharito_choices = [0,1,2,3,4,5,6]\n",
    "ochoa_choices = [0,1,2,3,4,5]"
   ]
  },
  {
   "cell_type": "code",
   "execution_count": 3,
   "metadata": {},
   "outputs": [
    {
     "name": "stdout",
     "output_type": "stream",
     "text": [
      "¿Hacia dónde cobrarás el penal? Elige una zona de la portería 🧠: 5\n",
      "El arquero rival ha elegido la zona:  5\n",
      "Láááástimaaa 😜\n",
      "Player: 0 \n",
      "Computer: 1\n"
     ]
    }
   ],
   "source": [
    "#función del input de cobranza de penal\n",
    "\n",
    "'''Debe hacer lo siguiente:\n",
    "1. Pedir que el user elija un número de la región de la portería que quiere atacar\n",
    "2. Generar random # para la defensa de la computadora\n",
    "3. Comparar y asignar puntos correspondientes\n",
    "4. Exhibir mensaje informando el player del resultado de la ronda\n",
    "'''\n",
    "\n",
    "def input_chicharito(player, computer):\n",
    "    player_tmp = int(input(\"¿Hacia dónde cobrarás el penal? Elige una zona de la portería 🧠: \"))\n",
    "    if player_tmp not in [1,2,3,4,5,6]: \n",
    "        print(\"Fueeeeraaaaaaaaaaa\")\n",
    "    comp_tmp = random.choice([1,2,3,4,5,6])\n",
    "    print(\"El arquero rival ha elegido la zona: \", comp_tmp)\n",
    "    if comp_tmp == player_tmp:\n",
    "        computer += 1 \n",
    "        print(\"Láááástimaaa 😜\")\n",
    "    if comp_tmp != player_tmp:\n",
    "        player += 1\n",
    "        print(\"Goooool, la metió ahí, donde las arañas tejen su nido ⚽⚽\")\n",
    "    return f\"Player: {player} \\nComputer: {computer}\"\n",
    "\n",
    "prueba = input_chicharito(goals_player, goals_computer)\n",
    "print(prueba)"
   ]
  },
  {
   "cell_type": "code",
   "execution_count": 4,
   "metadata": {},
   "outputs": [
    {
     "ename": "SyntaxError",
     "evalue": "invalid syntax (<ipython-input-4-bee722ba8018>, line 10)",
     "output_type": "error",
     "traceback": [
      "\u001b[1;36m  File \u001b[1;32m\"<ipython-input-4-bee722ba8018>\"\u001b[1;36m, line \u001b[1;32m10\u001b[0m\n\u001b[1;33m    def input_ochoa()\u001b[0m\n\u001b[1;37m                     ^\u001b[0m\n\u001b[1;31mSyntaxError\u001b[0m\u001b[1;31m:\u001b[0m invalid syntax\n"
     ]
    }
   ],
   "source": [
    "#función del input de defensa\n",
    "\n",
    "'''Debe hacer lo siguiente:\n",
    "1. Generar random # para la defensa de la computadora\n",
    "2. Pedir que el user elija un número de la región de la portería que quiere defender\n",
    "3. Comparar y asignar puntos correspondientes\n",
    "4. Exhibir mensaje informando el player del resultado de la ronda\n",
    "'''\n",
    "\n",
    "def input_ochoa()"
   ]
  },
  {
   "cell_type": "code",
   "execution_count": 10,
   "metadata": {},
   "outputs": [],
   "source": [
    "#función de muerte súbita\n",
    "\n",
    "'''Debe hacer lo siguiente:\n",
    "1. Pedir que el user elija un número de la región de la portería que quiere atacar\n",
    "2. Generar random # para la defensa de la computadora\n",
    "3. Comparar y asignar puntos correspondientes\n",
    "4. Aplicar condición: if == repetir, if != ganador es el que tiene más puntos\n",
    "5. Exhibir mensaje del resultado final'''\n",
    "\n",
    "#ronda_mt = 5\n",
    "def muerte_subita(player, computer):\n",
    "\n",
    "    player_tmp = int(input(\"¡Muerte súbita! ☠☠ Hacia dónde cobrarás el penal? Elige una zona de la portería 🧠: \"))\n",
    "    if player_tmp not in [1,2,3,4,5,6]: \n",
    "        print(\"Fueeeeraaaaaaaaaaa\")\n",
    "    comp_tmp = random.choice([1,2,3,4,5,6])\n",
    "    print(\"El arquero rival ha elegido la zona: \", comp_tmp)\n",
    "    if comp_tmp == player_tmp:\n",
    "        computer += 1 \n",
    "        print(\"Láááástimaaa 😜\")\n",
    "    if comp_tmp != player_tmp:\n",
    "        player += 1\n",
    "        print(\"Goooool, la metió ahí, donde las arañas tejen su nido ⚽⚽\") \n",
    "    return f\"Player: {player} \\nComputer: {computer}\"\n",
    "\n",
    "    prueba_mt = muerte_subita(goals_player, goals_computer)\n",
    "    print(prueba_mt)\n",
    "\n",
    "#print(\"Ronda: \", ronda_mt)\n",
    "\n",
    "    while True:\n",
    "        if player == computer:\n",
    "            print(\"¡Empate! Vamos a una ronda más\")\n",
    "            continue\n",
    "        elif player > computer:\n",
    "            print(\"Campeones del mundooo!! Vámonos al Ángel\")\n",
    "        else: \n",
    "            print(\"NOOOOOOO\")\n",
    "    \n",
    "#ronda += 1         "
   ]
  },
  {
   "cell_type": "code",
   "execution_count": null,
   "metadata": {},
   "outputs": [],
   "source": [
    "#función master\n",
    "\n",
    "'''Debe hacer lo siguiente:\n",
    "1. Exhibir imagen de la portería e instrucciones\n",
    "2. Cara o corona para decidir si el player defiende o ataca primero\n",
    "3. De acuerdo a resultados anteriores, llamar primero input_neymar() o input_ochoa()\n",
    "4. Generar loops con las funciones input_neymar() e input_ochoa() de acuerdo con condiciones del flowchart\n",
    "5. += 1 a variable rondas después de aplicar condiciones\n",
    "6. Pasar función muerte_subita() en caso de que no haya return antes\n",
    "'''\n",
    "\n",
    "def penales()"
   ]
  }
 ],
 "metadata": {
  "kernelspec": {
   "display_name": "Python 3",
   "language": "python",
   "name": "python3"
  },
  "language_info": {
   "codemirror_mode": {
    "name": "ipython",
    "version": 3
   },
   "file_extension": ".py",
   "mimetype": "text/x-python",
   "name": "python",
   "nbconvert_exporter": "python",
   "pygments_lexer": "ipython3",
   "version": "3.7.3"
  }
 },
 "nbformat": 4,
 "nbformat_minor": 2
}
