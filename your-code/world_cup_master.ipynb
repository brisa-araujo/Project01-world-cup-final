{
 "cells": [
  {
   "cell_type": "markdown",
   "metadata": {},
   "source": [
    "# Bienvenido(a) al mundial de fútbol de Qatar 2022! ⚽️⚽️  \n",
    "___\n",
    "En este sorprendente torneo, México ha llegado por primera vez a la final! 🎉  \n",
    "Su contrincante es Estados Unidos, y la rivalidad en este partido está en su máximo nivel  \n",
    "Es una final tan disputada que no pudo ser decidida en los 90 minutos.  \n",
    "\n",
    "Ahora, te toca ayudar a tu equipo a ser el campeón máximo del fútbol, defendiéndolo en los penales\n",
    "___\n",
    "## Mecánica del Juego:\n",
    "1. La tanda de penales tiene una fase inicial con 5 rondas de ataque y defensa.  \n",
    "2. En cada ronda, cada equipo tendrá la oportunidad de atacar y defender. El orden de ataque o defensa se decide de forma aleatória al principio del juego  \n",
    "3. Durante la fase inicial, gana el mejor de 5.  \n",
    "3. Si el partido no se define en las rondas iniciales, nos vamos a muerte súbita: el primer equipo que se equivoque pierde.  \n",
    "___\n",
    "## Instrucciones:  \n",
    "La portería tiene 5 áreas. Elige una de ellas para atacar o defender, de acuerdo con la imagen.  \n",
    "👁 Si estás atacando y eliges un área fuera de las 5 determinadas, tu tiro va hacia afuera! Así que cuidado!!  \n",
    "\n",
    "![alt text](./areas_porteria.png \"Áreas de Juego\")"
   ]
  },
  {
   "cell_type": "code",
   "execution_count": 8,
   "metadata": {},
   "outputs": [],
   "source": [
    "#espacio para importar librerías necesarias\n",
    "import random"
   ]
  },
  {
   "cell_type": "code",
   "execution_count": 9,
   "metadata": {},
   "outputs": [],
   "source": [
    "# definición de variables principales, externas a las funciones\n",
    "\n",
    "rondas = 0 #rondas transcurridas\n",
    "goals_player = 0 #número de goles del player \"humano\"\n",
    "goals_computer = 0 #número de goles de la máquina\n",
    "chicharito_choices = [1,2,3,4,5,6]\n",
    "ochoa_choices = [1,2,3,4,5]"
   ]
  },
  {
   "cell_type": "code",
   "execution_count": null,
   "metadata": {},
   "outputs": [],
   "source": [
    "#función del input de cobranza de penal\n",
    "\n",
    "'''Debe hacer lo siguiente:\n",
    "1. Pedir que el user elija un número de la región de la portería que quiere atacar\n",
    "2. Generar random # para la defensa de la computadora\n",
    "3. Comparar y asignar puntos correspondientes\n",
    "4. Exhibir mensaje informando el player del resultado de la ronda\n",
    "'''\n",
    "\n",
    "def input_chicharito()"
   ]
  },
  {
   "cell_type": "code",
   "execution_count": 15,
   "metadata": {},
   "outputs": [
    {
     "name": "stdout",
     "output_type": "stream",
     "text": [
      "Elige tu área de defensa - número de 1 a 5 3\n",
      "El artillero rival eligió: 4\n",
      "Goooooool de la computadora!! Le engañó al portero!⚽️\n",
      "Computadora: 1 \n",
      "Player: 0\n"
     ]
    }
   ],
   "source": [
    "#función del input de defensa\n",
    "\n",
    "'''Debe hacer lo siguiente:\n",
    "1. Generar random # para la defensa de la computadora\n",
    "2. Pedir que el user elija un número de la región de la portería que quiere defender\n",
    "3. Comparar y asignar puntos correspondientes\n",
    "4. Exhibir mensaje informando el player del resultado de la ronda\n",
    "'''\n",
    "\n",
    "def input_ochoa(player, computer):\n",
    "    comp_tmp = random.choice([1,2,3,4,5,6])\n",
    "    while True:\n",
    "        player_tmp = int(input(\"Elige tu área de defensa - número de 1 a 5 \"))\n",
    "        if player_tmp not in [1,2,3,4,5]:\n",
    "            print(\"Elige un área válida - número de 1 a 5 \")\n",
    "        else:\n",
    "            break\n",
    "    print(f\"El artillero rival eligió: {comp_tmp}\")\n",
    "    if comp_tmp == player_tmp:\n",
    "        player += 1\n",
    "        print(\"Ochooooooa!!! Gran defensa!!!🥅\")\n",
    "    if comp_tmp != player_tmp:\n",
    "        computer += 1\n",
    "        print(\"Goooooool de Estados Unidos! Le engañó al portero!⚽️\")\n",
    "    return f\"Estados Unidos: {computer} \\nPlayer: {player}\"\n",
    "\n",
    "prueba = input_ochoa(goals_player, goals_computer)\n",
    "print(prueba)"
   ]
  },
  {
   "cell_type": "code",
   "execution_count": null,
   "metadata": {},
   "outputs": [],
   "source": [
    "#función de muerte súbita\n",
    "\n",
    "'''Debe hacer lo siguiente:\n",
    "1. Pedir que el user elija un número de la región de la portería que quiere atacar\n",
    "2. Generar random # para la defensa de la computadora\n",
    "3. Comparar y asignar puntos correspondientes\n",
    "4. Aplicar condición: if == repetir, if != ganador es el que tiene más puntos\n",
    "5. Exhibir mensaje del resultado final'''\n",
    "\n",
    "def muerte_subita()"
   ]
  },
  {
   "cell_type": "code",
   "execution_count": 5,
   "metadata": {},
   "outputs": [
    {
     "name": "stdout",
     "output_type": "stream",
     "text": [
      "/bin/sh: -c: line 0: syntax error near unexpected token `('\n",
      "/bin/sh: -c: line 0: `[alt text](./your-code/areas_porteria.png \"Áreas de Juego\")'\n",
      "#Bienvenido(a) al mundial de fútbol de Qatar 2022! ⚽️⚽️\n",
      "\n",
      "En este sorprendente torneo, México ha llegado por primera vez a la final! 🎉\n",
      "\n",
      "Su contrincante es Estados Unidos, y la rivalidad en este partido está en su máximo nivel \n",
      " \n",
      "Es una final tan disputada que no pudo ser decidida en los 90 minutos. \n",
      "\n",
      "**Ahora, te toca ayudar a tu equipo a ser el campeón máximo del fútbol, defendiéndolo en los penales**\n",
      "\n",
      "\n",
      "-----\n",
      "##Mecánica del Juego:\n",
      "1. La tanda de penales tiene una fase inicial con 5 rondas de ataque y defensa.\n",
      " \n",
      "2. En cada ronda, cada equipo tendrá la oportunidad de atacar y defender. El orden de ataque o defensa se decide de forma aleatória al principio del juego \n",
      "\n",
      "3. Durante la fase inicial, gana el mejor de 5.\n",
      "\n",
      "3. Si el partido no se define en las rondas iniciales, nos vamos a muerte súbita: el primer equipo que se equivoque pierde.\n",
      "\n",
      "\n",
      "-----\n",
      "##Instrucciones:\n",
      "La portería tiene 5 áreas. Elige una de ellas para atacar o defender, de acuerdo con la imagen.\n",
      "\n",
      "👁 Si estás atacando y eliges un área fuera de las 5 determinadas, tu tiro va hacia afuera! Así que cuidado!!\n",
      "\n",
      "[\"/bin/bash: -c: line 0: syntax error near unexpected token `('\", '/bin/bash: -c: line 0: `[alt text](./your-code/areas_porteria.png \"Áreas de Juego\")\\'']\n"
     ]
    }
   ],
   "source": []
  },
  {
   "cell_type": "code",
   "execution_count": null,
   "metadata": {},
   "outputs": [],
   "source": [
    "#función master\n",
    "\n",
    "'''Debe hacer lo siguiente:\n",
    "1. Exhibir imagen de la portería e instrucciones\n",
    "2. Cara o corona para decidir si el player defiende o ataca primero\n",
    "3. De acuerdo a resultados anteriores, llamar primero input_neymar() o input_ochoa()\n",
    "4. Generar loops con las funciones input_neymar() e input_ochoa() de acuerdo con condiciones del flowchart\n",
    "5. += 1 a variable rondas después de aplicar condiciones\n",
    "6. Pasar función muerte_subita() en caso de que no haya return antes\n",
    "'''\n",
    "\n",
    "def penales()"
   ]
  },
  {
   "cell_type": "code",
   "execution_count": null,
   "metadata": {},
   "outputs": [],
   "source": []
  }
 ],
 "metadata": {
  "kernelspec": {
   "display_name": "Python 3",
   "language": "python",
   "name": "python3"
  },
  "language_info": {
   "codemirror_mode": {
    "name": "ipython",
    "version": 3
   },
   "file_extension": ".py",
   "mimetype": "text/x-python",
   "name": "python",
   "nbconvert_exporter": "python",
   "pygments_lexer": "ipython3",
   "version": "3.7.3"
  }
 },
 "nbformat": 4,
 "nbformat_minor": 2
}
